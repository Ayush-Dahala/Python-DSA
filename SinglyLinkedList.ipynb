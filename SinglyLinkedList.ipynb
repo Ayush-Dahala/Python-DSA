{
  "nbformat": 4,
  "nbformat_minor": 0,
  "metadata": {
    "colab": {
      "provenance": []
    },
    "kernelspec": {
      "name": "python3",
      "display_name": "Python 3"
    },
    "language_info": {
      "name": "python"
    }
  },
  "cells": [
    {
      "cell_type": "code",
      "execution_count": 3,
      "metadata": {
        "colab": {
          "base_uri": "https://localhost:8080/"
        },
        "id": "6BMxamb4sIiI",
        "outputId": "ef7b545d-dbdc-4bdf-83f5-b4b77c64144c"
      },
      "outputs": [
        {
          "output_type": "stream",
          "name": "stdout",
          "text": [
            "None\n"
          ]
        }
      ],
      "source": [
        "#Creating a node in linked list\n",
        "class Node:\n",
        "  def __init__(self,data):\n",
        "    self.data=data\n",
        "    self.next=None\n",
        "\n",
        "n1=Node(23)\n",
        "print(n1.next)"
      ]
    },
    {
      "cell_type": "code",
      "source": [
        "#Creating an empty linked list\n",
        "class Singlyll:\n",
        "  def __init__(self):\n",
        "    self.head=None\n",
        "    print(\"\")\n",
        "\n",
        "sll=Singlyll()\n",
        "print(sll.head)"
      ],
      "metadata": {
        "colab": {
          "base_uri": "https://localhost:8080/"
        },
        "id": "tpOG7mVJs_0s",
        "outputId": "036063c4-5595-4d9c-e045-b7e9c3388a6d"
      },
      "execution_count": 8,
      "outputs": [
        {
          "output_type": "stream",
          "name": "stdout",
          "text": [
            "\n",
            "None\n"
          ]
        }
      ]
    },
    {
      "cell_type": "code",
      "source": [
        "#singly linked list\n",
        "#traversing in a linked list\n",
        "#operation in linked list\n",
        "class Node:\n",
        "  def __init__(self,data):\n",
        "    self.data=data\n",
        "    self.next=None\n",
        "  \n",
        "class Linkedll:\n",
        "  def __init__(self):\n",
        "    self.head=None\n",
        "\n",
        "  def traversal(self):\n",
        "    if self.head is None:\n",
        "      print(\"linked list is empty\")\n",
        "    else:\n",
        "      a=self.head\n",
        "      while a is not None:\n",
        "        print(a.data,end=\" \")\n",
        "        a=a.next\n",
        "\n",
        "  def insert_at_beginning(self,data):\n",
        "    nb=Node(data)\n",
        "    nb.next=self.head\n",
        "    self.head=nb\n",
        "\n",
        "  def insert_at_end(self,data):\n",
        "    ne=Node(data)\n",
        "    a=self.head  \n",
        "    while a.next is not None:\n",
        "      a=a.next\n",
        "    a.next=ne\n",
        "\n",
        "  def insert_at_specified_pos(self,data,pos):\n",
        "    ns=Node(data)\n",
        "    a=self.head\n",
        "    for i in range(1,pos-1):\n",
        "      a=a.next\n",
        "    ns.next=a.next\n",
        "    a.next=ns\n",
        "\n",
        "  def del_at_beg(self):\n",
        "    a=self.head\n",
        "    self.head=a.next\n",
        "    a.next=None\n",
        "\n",
        "  def del_at_end(self):\n",
        "    prev=self.head\n",
        "    a=self.head.next\n",
        "    while a.next is not None:\n",
        "      a=a.next\n",
        "      prev=prev.next\n",
        "    prev.next=None\n",
        "\n",
        "  def del_at_spec_pos(self,pos):\n",
        "    prev=self.head\n",
        "    a=self.head.next\n",
        "    for i in range(1,pos-1):\n",
        "      a=a.next\n",
        "      prev=prev.next\n",
        "    prev.next=a.next\n",
        "    a.next=None\n",
        "\n",
        "\n",
        "n1=Node(5)\n",
        "ll=Linkedll()\n",
        "ll.head=n1\n",
        "n2=Node(6)\n",
        "n1.next=n2\n",
        "n3=Node(10)\n",
        "n2.next=n3\n",
        "n4=Node(13)\n",
        "n3.next=n4\n",
        "n4.next=None \n",
        "\n",
        "ll.traversal()\n",
        "ll.insert_at_beginning(20)\n",
        "ll.insert_at_end(30)\n",
        "ll.insert_at_specified_pos(2,3)\n",
        "print()\n",
        "ll.traversal()\n",
        "\n",
        "ll.del_at_beg()\n",
        "ll.del_at_end()\n",
        "ll.del_at_spec_pos(3)\n",
        "print()\n",
        "ll.traversal()\n",
        "\n",
        "        \n"
      ],
      "metadata": {
        "colab": {
          "base_uri": "https://localhost:8080/"
        },
        "id": "37A_UBEet-F2",
        "outputId": "fafd53f5-6f15-4083-febe-da83738d517f"
      },
      "execution_count": 35,
      "outputs": [
        {
          "output_type": "stream",
          "name": "stdout",
          "text": [
            "5 6 10 13 \n",
            "20 5 2 6 10 13 30 \n",
            "5 2 10 13 "
          ]
        }
      ]
    }
  ]
}